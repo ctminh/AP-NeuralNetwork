{
 "cells": [
  {
   "cell_type": "markdown",
   "metadata": {},
   "source": [
    "# Ứng dụng Nerual Network trong nhận dạng chữ số"
   ]
  },
  {
   "cell_type": "markdown",
   "metadata": {},
   "source": [
    "Module này mình hoạ feedforward neural network với sô layer bất kỳ. Những khái niệm về linear projection sẽ được đưa ra thông qua matrix multiplication, non-linear transformaiton."
   ]
  },
  {
   "cell_type": "markdown",
   "metadata": {},
   "source": [
    "## Import những thư viện cần thiết"
   ]
  },
  {
   "cell_type": "code",
   "execution_count": 60,
   "metadata": {},
   "outputs": [],
   "source": [
    "# Python imports\n",
    "import numpy as np # Matrix and vector computation package\n",
    "import matplotlib.pyplot as plt  # Plotting library\n",
    "# Allow matplotlib to plot inside this notebook\n",
    "%matplotlib inline\n",
    "# Set the seed of the numpy random number generator so that the tutorial is reproducable\n",
    "np.random.seed(seed=1)\n",
    "from sklearn.model_selection import train_test_split\n",
    "from sklearn import datasets, metrics, cross_validation # data and evaluation utils, \n",
    "from matplotlib.colors import colorConverter, ListedColormap # some plotting functions\n",
    "import itertools\n",
    "import collections"
   ]
  },
  {
   "cell_type": "markdown",
   "metadata": {},
   "source": [
    "## Handwritten digits dataset\n",
    "\n",
    "Tập dataset sử dụng được cung cấp bởi scikit-learn. Tập này bao gồm 1797 8x8 images số được viết bằng tay từ 0 - 9. Tập dataset này nhỏ hơn rất nhiều so với tập MNIST."
   ]
  },
  {
   "cell_type": "code",
   "execution_count": 61,
   "metadata": {
    "collapsed": true
   },
   "outputs": [],
   "source": [
    "# load the data from scikit-learn\n",
    "digits = datasets.load_digits()\n",
    "\n",
    "# Load the targets\n",
    "# Note that the targets are stored as digits, these need to be\n",
    "# converted to one-hot-encoding for the output sofmax layer.\n",
    "T = np.zeros((digits.target.shape[0], 10))\n",
    "T[np.arange(len(T)), digits.target] += 1\n",
    "\n",
    "# Devide the data into a train and test set.\n",
    "X_train, X_test, T_train, T_test = cross_validation.train_test_split(digits.data, T, test_size=0.4)\n",
    "\n",
    "# Devide the test set into a validation set and final test set.\n",
    "X_validation, X_test, T_validation, T_test = cross_validation.train_test_split(X_test, T_test, test_size=0.5)"
   ]
  },
  {
   "cell_type": "code",
   "execution_count": 79,
   "metadata": {
    "scrolled": true
   },
   "outputs": [
    {
     "data": {
      "image/png": "[encoded data removed]",
      "text/plain": [
       "<matplotlib.figure.Figure at 0x11689a610>"
      ]
     },
     "metadata": {
      "image/png": {
       "height": 113,
       "width": 815
      }
     },
     "output_type": "display_data"
    }
   ],
   "source": [
    "# Plot an example of each image.\n",
    "%config InlineBackend.figure_format = 'retina'\n",
    "fig = plt.figure(figsize=(10, 1), dpi=100)\n",
    "for i in range(10):\n",
    "    ax = fig.add_subplot(1,10,i+1)\n",
    "    ax.matshow(digits.images[i], cmap='binary') \n",
    "    ax.axis('off')\n",
    "plt.show()"
   ]
  },
  {
   "cell_type": "markdown",
   "metadata": {},
   "source": [
    "## Generalization of the layers"
   ]
  },
  {
   "cell_type": "code",
   "execution_count": 63,
   "metadata": {
    "collapsed": true
   },
   "outputs": [],
   "source": [
    "# Define the non-linear functions used\n",
    "def logistic(z):\n",
    "    return 1 / (1 + np.exp(-z))\n",
    "\n",
    "def logistic_deriv(y):\n",
    "    return np.multiply(y, (1 - y))\n",
    "\n",
    "def softmax(z):\n",
    "    return np.exp(z) / np.sum(np.exp(z), axis=1, keepdims=True)"
   ]
  },
  {
   "cell_type": "code",
   "execution_count": 64,
   "metadata": {
    "collapsed": true
   },
   "outputs": [],
   "source": [
    "# Define layers used in this model\n",
    "class Layer(object):\n",
    "    \"\"\"Base class for the different layers.\n",
    "    Defines base methods and documentation of methods.\"\"\"\n",
    "    \n",
    "    def get_params_iter(self):\n",
    "        return []\n",
    "    \n",
    "    def get_params_grad(self, X, output_grad):\n",
    "        return []\n",
    "    \n",
    "    def get_output(self, X):\n",
    "        pass\n",
    "    \n",
    "    def get_input_grad(self, Y, output_grad=None, T=None):\n",
    "        pass"
   ]
  },
  {
   "cell_type": "code",
   "execution_count": 65,
   "metadata": {
    "collapsed": true
   },
   "outputs": [],
   "source": [
    "class LinearLayer(Layer):\n",
    "    \"\"\"The linear layer performs a linear transformation to its input.\"\"\"\n",
    "    \n",
    "    def __init__(self, n_in, n_out):\n",
    "        \"\"\"Initialize hidden layer parameters.\n",
    "        n_in is the number of input variables.\n",
    "        n_out is the number of output variables.\"\"\"\n",
    "        self.W = np.random.randn(n_in, n_out) * 0.1\n",
    "        self.b = np.zeros(n_out)\n",
    "        \n",
    "    def get_params_iter(self):\n",
    "        \"\"\"Return an iterator over the parameters.\"\"\"\n",
    "        return itertools.chain(np.nditer(self.W, op_flags=['readwrite']),\n",
    "                                np.nditer(self.b, op_flags=['readwrite']))\n",
    "    \n",
    "    def get_output(self, X):\n",
    "        \"\"\"Perform the forward step linear transformation.\"\"\"\n",
    "        return X.dot(self.W) + self.b\n",
    "    \n",
    "    def get_params_grad(self, X, output_grad):\n",
    "        \"\"\"Return a list of gradients over the parameters.\"\"\"\n",
    "        JW = X.T.dot(output_grad)\n",
    "        Jb = np.sum(output_grad, axis=0)\n",
    "        return [g for g in itertools.chain(np.nditer(JW), np.nditer(Jb))]\n",
    "    \n",
    "    def get_input_grad(self, Y, output_grad):\n",
    "        \"\"\"Return the gradient at the inputs of this layer.\"\"\"\n",
    "        return output_grad.dot(self.W.T)"
   ]
  },
  {
   "cell_type": "code",
   "execution_count": 66,
   "metadata": {
    "collapsed": true
   },
   "outputs": [],
   "source": [
    "class LogisticLayer(Layer):\n",
    "    \"\"\"The logistic layer applies the logistic function to its inputs.\"\"\"\n",
    "    \n",
    "    def get_output(self, X):\n",
    "        \"\"\"Perform the forward step transformation.\"\"\"\n",
    "        return logistic(X)\n",
    "    \n",
    "    def get_input_grad(self, Y, output_grad):\n",
    "        \"\"\"Return the gradient at the inputs of this layer.\"\"\"\n",
    "        return np.multiply(logistic_deriv(Y), output_grad)"
   ]
  },
  {
   "cell_type": "code",
   "execution_count": 67,
   "metadata": {
    "collapsed": true
   },
   "outputs": [],
   "source": [
    "class SoftmaxOutputLayer(Layer):\n",
    "    \"\"\"The softmax output layer computes the classification propabilities at the output.\"\"\"\n",
    "    \n",
    "    def get_output(self, X):\n",
    "        \"\"\"Perform the forward step transformation.\"\"\"\n",
    "        return softmax(X)\n",
    "    \n",
    "    def get_input_grad(self, Y, T):\n",
    "        \"\"\"Return the gradient at the inputs of this layer.\"\"\"\n",
    "        return (Y - T) / Y.shape[0]\n",
    "    \n",
    "    def get_cost(self, Y, T):\n",
    "        \"\"\"Return the cost at the output of this output layer.\"\"\"\n",
    "        return - np.multiply(T, np.log(Y)).sum() / Y.shape[0]"
   ]
  },
  {
   "cell_type": "markdown",
   "metadata": {
    "collapsed": true
   },
   "source": [
    "## Mô hình mạng"
   ]
  },
  {
   "cell_type": "code",
   "execution_count": 68,
   "metadata": {
    "collapsed": true
   },
   "outputs": [],
   "source": [
    "# Define a sample model to be trained on the data\n",
    "hidden_neurons_1 = 20 # Number of neurons in the first hidden-layer\n",
    "hidden_neurons_2 = 20 # Number of neurons in the second hidden-layer\n",
    "\n",
    "# Create the model\n",
    "layers = [] # Define a list of layers\n",
    "# Add first hidden layer\n",
    "layers.append(LinearLayer(X_train.shape[1], hidden_neurons_1))\n",
    "layers.append(LogisticLayer())\n",
    "# Add second hidden layer\n",
    "layers.append(LinearLayer(hidden_neurons_1, hidden_neurons_2))\n",
    "layers.append(LogisticLayer())\n",
    "# Add output layer\n",
    "layers.append(LinearLayer(hidden_neurons_2, T_train.shape[1]))\n",
    "layers.append(SoftmaxOutputLayer())"
   ]
  },
  {
   "cell_type": "markdown",
   "metadata": {},
   "source": [
    "## Backpropagation"
   ]
  },
  {
   "cell_type": "code",
   "execution_count": 69,
   "metadata": {
    "collapsed": true
   },
   "outputs": [],
   "source": [
    "# Define the forward propagation step as a method\n",
    "def forward_step(input_samples, layers):\n",
    "    activations = [input_samples] # List of layer acctivations\n",
    "    # Compute the forward activations for each layer starting from the first\n",
    "    X = input_samples\n",
    "    for layer in layers:\n",
    "        Y = layer.get_output(X) # Get the output of the current layer\n",
    "        activations.append(Y)\n",
    "        X = activations[-1]\n",
    "    return activations"
   ]
  },
  {
   "cell_type": "code",
   "execution_count": 70,
   "metadata": {
    "collapsed": true
   },
   "outputs": [],
   "source": [
    "# Define the backward propagation step as a method\n",
    "def backward_step(activations, targets, layers):\n",
    "    param_grads = collections.deque() # List of parameter gradients for each layer\n",
    "    output_grad = None # The error gradient at the output of the current layer\n",
    "    # Propagate the error backwards through all the layers.\n",
    "    # Use reversed to iterate backwards over the list of layers.\n",
    "    for layer in reversed(layers):\n",
    "        Y = activations.pop() # Get the activations of the last layer on the stack\n",
    "        # Compute the error at the output layer\n",
    "        # The output layer error is calculated different then hidden layer error\n",
    "        if output_grad is None:\n",
    "            input_grad = layer.get_input_grad(Y, targets)\n",
    "        else:\n",
    "            input_grad = layer.get_input_grad(Y, output_grad)\n",
    "            \n",
    "        # Get the input of this layer (activations of the previous layer)\n",
    "        X = activations[-1]\n",
    "        # Compute the layer parameter gradients used to update the parameters\n",
    "        grads = layer.get_params_grad(X, output_grad)\n",
    "        \n",
    "        param_grads.appendleft(grads)\n",
    "        # Compute gradient at output of previous layer (input of current layer)\n",
    "        output_grad = input_grad\n",
    "    return list(param_grads)"
   ]
  },
  {
   "cell_type": "markdown",
   "metadata": {},
   "source": [
    "## Tính sai số cho việc đạo hàm - Gradient"
   ]
  },
  {
   "cell_type": "code",
   "execution_count": 71,
   "metadata": {},
   "outputs": [
    {
     "name": "stdout",
     "output_type": "stream",
     "text": [
      "No gradient errors found\n"
     ]
    }
   ],
   "source": [
    "# Perform gradient checking\n",
    "nb_samples_gradientcheck = 10 # Test the gradients on a subset of the data\n",
    "X_temp = X_train[0:nb_samples_gradientcheck,:]\n",
    "T_temp = T_train[0:nb_samples_gradientcheck,:]\n",
    "# Get the parameter gradients with backpropagation\n",
    "activations = forward_step(X_temp, layers)\n",
    "param_grads = backward_step(activations, T_temp, layers)\n",
    "\n",
    "# Set the small change to compute the numerical gradient\n",
    "eps = 0.0001\n",
    "# Compute the numerical gradients of the parameters in all layers.\n",
    "for idx in range(len(layers)):\n",
    "    layer = layers[idx]\n",
    "    layer_backprop_grads = param_grads[idx]\n",
    "    # Compute the numerical gradient for each parameter in the layer\n",
    "    for p_idx, param in enumerate(layer.get_params_iter()):\n",
    "        grad_backprop = layer_backprop_grads[p_idx]\n",
    "        # + eps\n",
    "        param += eps\n",
    "        plus_cost = layers[-1].get_cost(forward_step(X_temp, layers)[-1], T_temp)\n",
    "        # - eps\n",
    "        param -= 2 * eps\n",
    "        min_cost = layers[-1].get_cost(forward_step(X_temp, layers)[-1], T_temp)\n",
    "        # reset param value\n",
    "        param += eps\n",
    "        # calculate numerical gradient\n",
    "        grad_num = (plus_cost - min_cost)/(2*eps)\n",
    "        # Raise error if the numerical grade is not close to the backprop gradient\n",
    "        if not np.isclose(grad_num, grad_backprop):\n",
    "            raise ValueError('Numerical gradient of {:.6f} is not close to the backpropagation gradient of {:.6f}!'.format(float(grad_num), float(grad_backprop)))\n",
    "print('No gradient errors found')"
   ]
  },
  {
   "cell_type": "markdown",
   "metadata": {},
   "source": [
    "## Lan truyền ngược - Backpropagation"
   ]
  },
  {
   "cell_type": "code",
   "execution_count": 72,
   "metadata": {
    "collapsed": true
   },
   "outputs": [],
   "source": [
    "# Create the minibatches\n",
    "batch_size = 25  # Approximately 25 samples per batch\n",
    "nb_of_batches = X_train.shape[0] / batch_size  # Number of batches\n",
    "\n",
    "# Create batches (X,Y) from the training set\n",
    "XT_batches = zip(\n",
    "    np.array_split(X_train, nb_of_batches, axis=0),  # X samples\n",
    "    np.array_split(T_train, nb_of_batches, axis=0))  # Y targets\n"
   ]
  },
  {
   "cell_type": "code",
   "execution_count": 73,
   "metadata": {
    "collapsed": true
   },
   "outputs": [],
   "source": [
    "# Define a method to update the parameters\n",
    "def update_params(layers, param_grads, learning_rate):\n",
    "    for layer, layer_backprop_grads in zip(layers, param_grads):\n",
    "        for param, grad in itertools.izip(layer.get_params_iter(), layer_backprop_grads):\n",
    "            # The parameter returned by the iterator point to the memory space of\n",
    "            #  the original layer and can thus be modified inplace.\n",
    "            param -= learning_rate * grad  # Update each parameter"
   ]
  },
  {
   "cell_type": "code",
   "execution_count": 74,
   "metadata": {
    "collapsed": true
   },
   "outputs": [],
   "source": [
    "# Perform backpropagation\n",
    "# initalize some lists to store the cost for future analysis        \n",
    "minibatch_costs = []\n",
    "training_costs = []\n",
    "validation_costs = []\n",
    "\n",
    "max_nb_of_iterations = 300  # Train for a maximum of 300 iterations\n",
    "learning_rate = 0.1  # Gradient descent learning rate\n",
    "\n",
    "# Train for the maximum number of iterations\n",
    "for iteration in range(max_nb_of_iterations):\n",
    "    for X, T in XT_batches:  # For each minibatch sub-iteration\n",
    "        activations = forward_step(X, layers)  # Get the activations\n",
    "#         print \"activations = \", len(activations)\n",
    "        minibatch_cost = layers[-1].get_cost(activations[-1], T)  # Get cost\n",
    "        minibatch_costs.append(minibatch_cost)\n",
    "        param_grads = backward_step(activations, T, layers)  # Get the gradients\n",
    "        update_params(layers, param_grads, learning_rate)  # Update the parameters\n",
    "    # Get full training cost for future analysis (plots)\n",
    "    activations = forward_step(X_train, layers)\n",
    "    train_cost = layers[-1].get_cost(activations[-1], T_train)\n",
    "    training_costs.append(train_cost)\n",
    "    # Get full validation cost\n",
    "    activations = forward_step(X_validation, layers)\n",
    "    validation_cost = layers[-1].get_cost(activations[-1], T_validation)\n",
    "    validation_costs.append(validation_cost)\n",
    "#     if len(validation_costs) > 3:\n",
    "#         # Stop training if the cost on the validation set doesn't decrease\n",
    "#         #  for 3 iterations\n",
    "#         if validation_costs[-1] >= validation_costs[-2] >= validation_costs[-3]:\n",
    "#             break\n",
    "    \n",
    "nb_of_iterations = iteration + 1  # The number of iterations that have been executed"
   ]
  },
  {
   "cell_type": "code",
   "execution_count": 80,
   "metadata": {},
   "outputs": [
    {
     "data": {
      "image/png": "[encoded data removed]",
      "text/plain": [
       "<matplotlib.figure.Figure at 0x116811290>"
      ]
     },
     "metadata": {
      "image/png": {
       "height": 277,
       "width": 402
      }
     },
     "output_type": "display_data"
    }
   ],
   "source": [
    "# Plot the minibatch, full training set, and validation costs\n",
    "%config InlineBackend.figure_format = 'retina'\n",
    "minibatch_x_inds = np.linspace(0, nb_of_iterations, num=nb_of_iterations*nb_of_batches)\n",
    "iteration_x_inds = np.linspace(1, nb_of_iterations, num=nb_of_iterations)\n",
    "# Plot the cost over the iterations\n",
    "# plt.plot(minibatch_x_inds, minibatch_costs, 'g-', linewidth=0.5, label='cost minibatches')\n",
    "plt.plot(iteration_x_inds, training_costs, 'b-', linewidth=2, label='cost full training set')\n",
    "plt.plot(iteration_x_inds, validation_costs, 'r-', linewidth=3, label='cost validation set')\n",
    "# Add labels to the plot\n",
    "plt.xlabel('iteration')\n",
    "plt.ylabel('$\\\\xi$', fontsize=15)\n",
    "plt.title('Decrease of cost over backprop iteration')\n",
    "plt.legend()\n",
    "x1,x2,y1,y2 = plt.axis()\n",
    "plt.axis((0,nb_of_iterations,0,2.5))\n",
    "plt.grid()\n",
    "plt.show()"
   ]
  },
  {
   "cell_type": "markdown",
   "metadata": {
    "collapsed": true
   },
   "source": [
    "## Test kết quả với mô hình học được"
   ]
  },
  {
   "cell_type": "code",
   "execution_count": 76,
   "metadata": {},
   "outputs": [
    {
     "name": "stdout",
     "output_type": "stream",
     "text": [
      "[3 4 4 4 0 4 5 7 7 0 5 3 7 3 6 4 5 1 1 0 7 3 3 1 0 4 2 3 0 6 2 3 7 9 3 7 9\n",
      " 1 5 4 3 0 1 5 8 8 1 3 4 8 7 5 8 6 9 1 7 8 0 3 3 4 3 2 0 0 2 5 5 0 2 0 8 9\n",
      " 4 5 5 0 3 0 8 7 9 6 1 9 1 9 7 0 5 5 5 7 8 2 9 0 2 1 8 7 7 6 3 4 3 6 7 9 8\n",
      " 3 0 5 7 9 5 9 9 0 7 7 0 6 1 9 3 2 5 9 3 0 3 4 0 0 9 7 7 1 2 9 9 7 4 1 5 3\n",
      " 6 8 5 4 8 6 6 0 8 4 8 7 0 9 3 9 5 4 9 1 5 2 5 1 6 6 7 6 9 6 1 4 2 0 5 1 7\n",
      " 9 5 1 6 9 4 8 9 4 6 2 3 1 9 3 4 5 2 0 0 7 1 6 4 6 0 4 9 0 1 6 3 4 5 4 0 1\n",
      " 9 3 4 9 3 4 4 4 2 8 2 1 8 8 0 3 3 3 4 5 1 5 7 7 3 4 3 1 9 7 1 8 4 8 4 9 2\n",
      " 3 8 4 2 4 5 8 4 8 8 0 6 2 7 1 2 7 5 2 2 4 7 0 9 9 7 2 1 2 4 1 8 0 0 5 0 1\n",
      " 9 8 1 1 5 8 8 7 2 7 9 0 5 3 3 0 6 7 4 3 3 7 7 5 2 7 5 9 1 1 9 6 2 1 4 9 1\n",
      " 8 8 2 5 6 0 7 3 3 4 6 0 7 7 6 2 8 0 5 8 6 8 2 7 7 4 1]\n",
      "[3 4 4 4 0 4 5 7 7 0 5 3 7 3 6 4 8 1 1 0 7 3 3 1 0 4 2 2 0 6 2 3 7 9 3 7 9\n",
      " 1 5 4 3 0 1 5 8 8 1 3 4 8 7 5 5 6 9 1 7 8 0 3 3 4 3 2 0 0 2 5 5 0 2 0 8 9\n",
      " 4 5 5 0 3 0 8 7 9 6 1 9 1 9 7 0 5 5 5 7 8 2 9 0 2 1 8 7 7 6 3 4 3 6 7 9 8\n",
      " 3 0 5 7 9 5 9 3 0 7 7 0 6 1 9 3 2 5 5 3 0 3 4 0 0 9 7 7 1 2 9 9 7 4 1 9 3\n",
      " 6 8 5 4 8 6 6 0 8 4 1 7 0 9 3 9 5 4 9 1 5 2 5 1 6 6 7 6 9 6 1 4 2 0 5 1 7\n",
      " 9 9 1 6 9 4 8 9 4 6 2 3 1 9 3 1 5 2 0 0 7 1 6 4 6 0 4 9 0 1 6 3 4 5 4 0 1\n",
      " 9 3 4 9 3 4 4 4 2 8 2 1 8 8 0 3 3 3 4 5 1 5 7 7 3 4 3 1 9 7 1 8 4 8 4 9 2\n",
      " 3 8 4 2 4 5 8 4 9 8 0 6 2 7 1 2 1 5 2 2 4 7 0 9 9 7 2 1 2 4 1 8 4 0 5 0 1\n",
      " 9 8 1 1 5 5 1 7 2 7 9 0 5 3 3 0 6 7 4 3 3 7 7 8 2 4 5 9 1 1 9 6 2 1 4 9 1\n",
      " 8 8 2 5 6 0 7 3 3 4 6 0 7 7 6 2 8 0 5 8 6 8 2 7 7 4 1]\n",
      "The accuracy on the test set is 0.96\n"
     ]
    }
   ],
   "source": [
    "# Get results of test data\n",
    "y_true = np.argmax(T_test, axis=1)  # Get the target outputs\n",
    "activations = forward_step(X_test, layers)  # Get activation of test samples\n",
    "y_pred = np.argmax(activations[-1], axis=1)  # Get the predictions made by the network\n",
    "print y_true\n",
    "print y_pred\n",
    "test_accuracy = metrics.accuracy_score(y_true, y_pred)  # Test set accuracy\n",
    "print('The accuracy on the test set is {:.2f}'.format(test_accuracy))"
   ]
  },
  {
   "cell_type": "code",
   "execution_count": 81,
   "metadata": {},
   "outputs": [
    {
     "name": "stdout",
     "output_type": "stream",
     "text": [
      "[3 4 4 4 0]\n"
     ]
    },
    {
     "data": {
      "image/png": "[encoded data removed]",
      "text/plain": [
       "<matplotlib.figure.Figure at 0x117baaad0>"
      ]
     },
     "metadata": {
      "image/png": {
       "height": 113,
       "width": 421
      }
     },
     "output_type": "display_data"
    }
   ],
   "source": [
    "real_num = np.argmax(T_test[0:5], axis=1)\n",
    "print real_num\n",
    "%config InlineBackend.figure_format = 'retina'\n",
    "fig = plt.figure(figsize=(10, 1), dpi=100)\n",
    "for i in range(len(real_num)):\n",
    "    ax = fig.add_subplot(1,10,i+1)\n",
    "    ax.matshow(digits.images[real_num[i]], cmap='binary') \n",
    "    ax.axis('off')\n",
    "plt.show()"
   ]
  },
  {
   "cell_type": "code",
   "execution_count": 82,
   "metadata": {},
   "outputs": [
    {
     "name": "stdout",
     "output_type": "stream",
     "text": [
      "\n"
     ]
    },
    {
     "data": {
      "image/png": "[encoded data removed]",
      "text/plain": [
       "<matplotlib.figure.Figure at 0x112e1d7d0>"
      ]
     },
     "metadata": {
      "image/png": {
       "height": 113,
       "width": 421
      }
     },
     "output_type": "display_data"
    }
   ],
   "source": [
    "activations = forward_step(X_test[0:5], layers)  # Get activation of test samples\n",
    "pred_num = np.argmax(activations[-1], axis=1)  # Get the predictions made by the network\n",
    "print \n",
    "%config InlineBackend.figure_format = 'retina'\n",
    "fig = plt.figure(figsize=(10, 1), dpi=100)\n",
    "for i in range(len(pred_num)):\n",
    "    ax = fig.add_subplot(1,10,i+1)\n",
    "    ax.matshow(digits.images[pred_num[i]], cmap='binary') \n",
    "    ax.axis('off')\n",
    "plt.show()"
   ]
  },
  {
   "cell_type": "code",
   "execution_count": null,
   "metadata": {
    "collapsed": true
   },
   "outputs": [],
   "source": []
  },
  {
   "cell_type": "code",
   "execution_count": null,
   "metadata": {
    "collapsed": true
   },
   "outputs": [],
   "source": []
  }
 ],
 "metadata": {
  "kernelspec": {
   "display_name": "Python 2",
   "language": "python",
   "name": "python2"
  },
  "language_info": {
   "codemirror_mode": {
    "name": "ipython",
    "version": 2
   },
   "file_extension": ".py",
   "mimetype": "text/x-python",
   "name": "python",
   "nbconvert_exporter": "python",
   "pygments_lexer": "ipython2",
   "version": "2.7.13"
  }
 },
 "nbformat": 4,
 "nbformat_minor": 1
}
